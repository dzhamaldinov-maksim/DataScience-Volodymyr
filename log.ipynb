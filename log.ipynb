{
 "cells": [
  {
   "cell_type": "code",
   "execution_count": null,
   "metadata": {},
   "outputs": [],
   "source": [
    "28.02.2024\n",
    "Познакомился с профессией data scine,узнал как принимать файлы и отправлять их на гит.\n",
    "Узнал что гит это площадка для коммандной работы + размещения своего кода.\n",
    "Ознакомился с правилами обучения,"
   ]
  }
 ],
 "metadata": {
  "language_info": {
   "name": "python"
  }
 },
 "nbformat": 4,
 "nbformat_minor": 2
}
