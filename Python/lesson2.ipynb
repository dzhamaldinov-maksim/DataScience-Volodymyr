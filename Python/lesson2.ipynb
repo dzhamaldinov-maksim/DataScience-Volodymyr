{
 "cells": [
  {
   "cell_type": "code",
   "execution_count": null,
   "metadata": {},
   "outputs": [],
   "source": [
    "pep8 - рекомендации по стайл гайду\n",
    "ctrl + shift + alt + стрелка в низ "
   ]
  },
  {
   "cell_type": "code",
   "execution_count": null,
   "metadata": {},
   "outputs": [],
   "source": [
    "number = 1\n",
    "shift + alt + f "
   ]
  },
  {
   "cell_type": "markdown",
   "metadata": {},
   "source": [
    "### создаёт виртуальное окружение"
   ]
  },
  {
   "cell_type": "code",
   "execution_count": 1,
   "metadata": {},
   "outputs": [],
   "source": [
    "#python -m venv venv(любое имя, принято называть venv) "
   ]
  },
  {
   "cell_type": "markdown",
   "metadata": {},
   "source": [
    "Виртуальное окружение - это отдельная папка с питоном и его зависимостями"
   ]
  },
  {
   "cell_type": "markdown",
   "metadata": {},
   "source": [
    "### - СОЗДАНИЕ ВИРТУАЛЬНОГО АКРУЖЕНИЯ В ТЕРМИНАЛЕ "
   ]
  },
  {
   "cell_type": "markdown",
   "metadata": {},
   "source": []
  },
  {
   "cell_type": "markdown",
   "metadata": {},
   "source": [
    ".\\venv\\Scripts\\activate"
   ]
  },
  {
   "cell_type": "code",
   "execution_count": 3,
   "metadata": {},
   "outputs": [
    {
     "name": "stderr",
     "output_type": "stream",
     "text": [
      "WARNING: ERROR: Please provide a package name or names.\n"
     ]
    }
   ],
   "source": [
    "!pip show"
   ]
  },
  {
   "cell_type": "code",
   "execution_count": 2,
   "metadata": {},
   "outputs": [
    {
     "name": "stdout",
     "output_type": "stream",
     "text": [
      "Collecting flake8-variables-names\n",
      "  Obtaining dependency information for flake8-variables-names from https://files.pythonhosted.org/packages/3a/e8/845c33c7ac0f6c495c5cbcfebc6a281b28017570f2edea65b24daaed47f0/flake8_variables_names-0.0.6-py3-none-any.whl.metadata\n",
      "  Downloading flake8_variables_names-0.0.6-py3-none-any.whl.metadata (3.5 kB)\n",
      "Downloading flake8_variables_names-0.0.6-py3-none-any.whl (6.1 kB)\n",
      "Installing collected packages: flake8-variables-names\n",
      "Successfully installed flake8-variables-names-0.0.6\n",
      "Collecting flake8-functions-names\n",
      "  Downloading flake8_functions_names-0.4.0.tar.gz (10 kB)\n",
      "  Preparing metadata (setup.py): started\n",
      "  Preparing metadata (setup.py): finished with status 'done'\n",
      "Requirement already satisfied: setuptools in c:\\programdata\\anaconda3\\lib\\site-packages (from flake8-functions-names) (68.0.0)\n",
      "Building wheels for collected packages: flake8-functions-names\n",
      "  Building wheel for flake8-functions-names (setup.py): started\n",
      "  Building wheel for flake8-functions-names (setup.py): finished with status 'done'\n",
      "  Created wheel for flake8-functions-names: filename=flake8_functions_names-0.4.0-py3-none-any.whl size=10454 sha256=0e862658c18a5fb1ef32f490b72b2db4b9190cb8dcf787cf1bbdc703c739a691\n",
      "  Stored in directory: c:\\users\\user\\appdata\\local\\pip\\cache\\wheels\\18\\51\\2d\\448eed45112119bdf0897c526c4065cc87e2b5e009c3913c13\n",
      "Successfully built flake8-functions-names\n",
      "Installing collected packages: flake8-functions-names\n",
      "Successfully installed flake8-functions-names-0.4.0\n",
      "Collecting flake8-builtins\n",
      "  Obtaining dependency information for flake8-builtins from https://files.pythonhosted.org/packages/14/c6/5e4cbc348b7509b1fe7fafe322a9c9f2155e1307331e5b00c3d02520b2fd/flake8_builtins-2.2.0-py3-none-any.whl.metadata\n",
      "  Downloading flake8_builtins-2.2.0-py3-none-any.whl.metadata (25 kB)\n",
      "Requirement already satisfied: flake8 in c:\\programdata\\anaconda3\\lib\\site-packages (from flake8-builtins) (6.0.0)\n",
      "Requirement already satisfied: mccabe<0.8.0,>=0.7.0 in c:\\programdata\\anaconda3\\lib\\site-packages (from flake8->flake8-builtins) (0.7.0)\n",
      "Requirement already satisfied: pycodestyle<2.11.0,>=2.10.0 in c:\\programdata\\anaconda3\\lib\\site-packages (from flake8->flake8-builtins) (2.10.0)\n",
      "Requirement already satisfied: pyflakes<3.1.0,>=3.0.0 in c:\\programdata\\anaconda3\\lib\\site-packages (from flake8->flake8-builtins) (3.0.1)\n",
      "Downloading flake8_builtins-2.2.0-py3-none-any.whl (18 kB)\n",
      "Installing collected packages: flake8-builtins\n",
      "Successfully installed flake8-builtins-2.2.0\n",
      "Collecting flake8-bugbear\n",
      "  Obtaining dependency information for flake8-bugbear from https://files.pythonhosted.org/packages/e4/cc/739a2718705bb7e7cab3b017bbabf7e39b2643d8a8cc6f8f18022b513ecc/flake8_bugbear-24.2.6-py3-none-any.whl.metadata\n",
      "  Downloading flake8_bugbear-24.2.6-py3-none-any.whl.metadata (31 kB)\n",
      "Requirement already satisfied: flake8>=6.0.0 in c:\\programdata\\anaconda3\\lib\\site-packages (from flake8-bugbear) (6.0.0)\n",
      "Requirement already satisfied: attrs>=19.2.0 in c:\\programdata\\anaconda3\\lib\\site-packages (from flake8-bugbear) (22.1.0)\n",
      "Requirement already satisfied: mccabe<0.8.0,>=0.7.0 in c:\\programdata\\anaconda3\\lib\\site-packages (from flake8>=6.0.0->flake8-bugbear) (0.7.0)\n",
      "Requirement already satisfied: pycodestyle<2.11.0,>=2.10.0 in c:\\programdata\\anaconda3\\lib\\site-packages (from flake8>=6.0.0->flake8-bugbear) (2.10.0)\n",
      "Requirement already satisfied: pyflakes<3.1.0,>=3.0.0 in c:\\programdata\\anaconda3\\lib\\site-packages (from flake8>=6.0.0->flake8-bugbear) (3.0.1)\n",
      "Downloading flake8_bugbear-24.2.6-py3-none-any.whl (32 kB)\n",
      "Installing collected packages: flake8-bugbear\n",
      "Successfully installed flake8-bugbear-24.2.6\n",
      "Collecting pep8-naming\n",
      "  Obtaining dependency information for pep8-naming from https://files.pythonhosted.org/packages/4f/48/9533518e0394fb858ac2b4b55fe18f24aa33c87c943f691336ec842d9728/pep8_naming-0.13.3-py3-none-any.whl.metadata\n",
      "  Downloading pep8_naming-0.13.3-py3-none-any.whl.metadata (6.6 kB)\n",
      "Requirement already satisfied: flake8>=5.0.0 in c:\\programdata\\anaconda3\\lib\\site-packages (from pep8-naming) (6.0.0)\n",
      "Requirement already satisfied: mccabe<0.8.0,>=0.7.0 in c:\\programdata\\anaconda3\\lib\\site-packages (from flake8>=5.0.0->pep8-naming) (0.7.0)\n",
      "Requirement already satisfied: pycodestyle<2.11.0,>=2.10.0 in c:\\programdata\\anaconda3\\lib\\site-packages (from flake8>=5.0.0->pep8-naming) (2.10.0)\n",
      "Requirement already satisfied: pyflakes<3.1.0,>=3.0.0 in c:\\programdata\\anaconda3\\lib\\site-packages (from flake8>=5.0.0->pep8-naming) (3.0.1)\n",
      "Downloading pep8_naming-0.13.3-py3-none-any.whl (8.5 kB)\n",
      "Installing collected packages: pep8-naming\n",
      "Successfully installed pep8-naming-0.13.3\n"
     ]
    }
   ],
   "source": [
    "!pip install flake8-variables-names\n",
    "!pip install flake8-functions-names\n",
    "!pip install flake8-builtins\n",
    "!pip install flake8-bugbear\n",
    "!pip install pep8-naming"
   ]
  }
 ],
 "metadata": {
  "kernelspec": {
   "display_name": "Python 3",
   "language": "python",
   "name": "python3"
  },
  "language_info": {
   "codemirror_mode": {
    "name": "ipython",
    "version": 3
   },
   "file_extension": ".py",
   "mimetype": "text/x-python",
   "name": "python",
   "nbconvert_exporter": "python",
   "pygments_lexer": "ipython3",
   "version": "3.11.5"
  }
 },
 "nbformat": 4,
 "nbformat_minor": 2
}
