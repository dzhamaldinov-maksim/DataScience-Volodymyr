{
 "cells": [
  {
   "cell_type": "code",
   "execution_count": null,
   "metadata": {},
   "outputs": [],
   "source": [
    "Алгоритм пулл реквеста\n",
    "1 fork\n",
    "2 clone  - слева три кружочка, нажимаем три точки, выбираем клон, вставляем ссылку, и \n",
    "3 edit\n",
    "4 commit\n",
    "5 push \n",
    "6 pull request"
   ]
  },
  {
   "cell_type": "markdown",
   "metadata": {},
   "source": []
  },
  {
   "cell_type": "markdown",
   "metadata": {},
   "source": []
  }
 ],
 "metadata": {
  "language_info": {
   "name": "python"
  }
 },
 "nbformat": 4,
 "nbformat_minor": 2
}
