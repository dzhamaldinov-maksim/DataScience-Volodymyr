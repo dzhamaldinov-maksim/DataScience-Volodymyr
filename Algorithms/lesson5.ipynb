{
 "cells": [
  {
   "cell_type": "code",
   "execution_count": 2,
   "metadata": {},
   "outputs": [],
   "source": [
    "list_ = [] # создание объекта\n"
   ]
  },
  {
   "cell_type": "code",
   "execution_count": 5,
   "metadata": {},
   "outputs": [
    {
     "data": {
      "text/plain": [
       "list"
      ]
     },
     "execution_count": 5,
     "metadata": {},
     "output_type": "execute_result"
    }
   ],
   "source": [
    "type(list_) \n",
    "list"
   ]
  },
  {
   "cell_type": "code",
   "execution_count": 4,
   "metadata": {},
   "outputs": [
    {
     "ename": "SyntaxError",
     "evalue": "expected ':' (2452526701.py, line 2)",
     "output_type": "error",
     "traceback": [
      "\u001b[1;36m  Cell \u001b[1;32mIn[4], line 2\u001b[1;36m\u001b[0m\n\u001b[1;33m    class apend()\u001b[0m\n\u001b[1;37m                 ^\u001b[0m\n\u001b[1;31mSyntaxError\u001b[0m\u001b[1;31m:\u001b[0m expected ':'\n"
     ]
    }
   ],
   "source": [
    "list_.append\n",
    "\n",
    "# class apend()\n",
    "    \n",
    "# type(apend)"
   ]
  },
  {
   "cell_type": "code",
   "execution_count": 6,
   "metadata": {},
   "outputs": [
    {
     "data": {
      "text/plain": [
       "['__add__',\n",
       " '__class__',\n",
       " '__class_getitem__',\n",
       " '__contains__',\n",
       " '__delattr__',\n",
       " '__delitem__',\n",
       " '__dir__',\n",
       " '__doc__',\n",
       " '__eq__',\n",
       " '__format__',\n",
       " '__ge__',\n",
       " '__getattribute__',\n",
       " '__getitem__',\n",
       " '__getstate__',\n",
       " '__gt__',\n",
       " '__hash__',\n",
       " '__iadd__',\n",
       " '__imul__',\n",
       " '__init__',\n",
       " '__init_subclass__',\n",
       " '__iter__',\n",
       " '__le__',\n",
       " '__len__',\n",
       " '__lt__',\n",
       " '__mul__',\n",
       " '__ne__',\n",
       " '__new__',\n",
       " '__reduce__',\n",
       " '__reduce_ex__',\n",
       " '__repr__',\n",
       " '__reversed__',\n",
       " '__rmul__',\n",
       " '__setattr__',\n",
       " '__setitem__',\n",
       " '__sizeof__',\n",
       " '__str__',\n",
       " '__subclasshook__',\n",
       " 'append',\n",
       " 'clear',\n",
       " 'copy',\n",
       " 'count',\n",
       " 'extend',\n",
       " 'index',\n",
       " 'insert',\n",
       " 'pop',\n",
       " 'remove',\n",
       " 'reverse',\n",
       " 'sort']"
      ]
     },
     "execution_count": 6,
     "metadata": {},
     "output_type": "execute_result"
    }
   ],
   "source": [
    "dir(list_)"
   ]
  },
  {
   "cell_type": "code",
   "execution_count": 47,
   "metadata": {},
   "outputs": [
    {
     "ename": "TypeError",
     "evalue": "list_.append() missing 1 required positional argument: 'x'",
     "output_type": "error",
     "traceback": [
      "\u001b[1;31m---------------------------------------------------------------------------\u001b[0m",
      "\u001b[1;31mTypeError\u001b[0m                                 Traceback (most recent call last)",
      "Cell \u001b[1;32mIn[47], line 18\u001b[0m\n\u001b[0;32m     12\u001b[0m     \u001b[38;5;28;01mdef\u001b[39;00m \u001b[38;5;21mappend\u001b[39m(\u001b[38;5;28mself\u001b[39m, x): \u001b[38;5;66;03m# метод класса\u001b[39;00m\n\u001b[0;32m     13\u001b[0m         \u001b[38;5;28;01mreturn\u001b[39;00m [i \u001b[38;5;28;01mfor\u001b[39;00m i \u001b[38;5;129;01min\u001b[39;00m \u001b[38;5;28mrange\u001b[39m(x)]\n\u001b[1;32m---> 18\u001b[0m list_\u001b[38;5;241m.\u001b[39mappend(\u001b[38;5;241m5\u001b[39m) \u001b[38;5;66;03m#вызов метода \u001b[39;00m\n\u001b[0;32m     19\u001b[0m list_\u001b[38;5;241m.\u001b[39mname\n",
      "\u001b[1;31mTypeError\u001b[0m: list_.append() missing 1 required positional argument: 'x'"
     ]
    }
   ],
   "source": [
    "class list_(object): \n",
    "    \"\"\"\n",
    "    любой класс состоит из атрибутов и методов классаа\n",
    "    \"\"\"\n",
    "    # name = \"vlad\" # атрибут класса\n",
    "    # age = \"20\"\n",
    "    def __init__(self, name, age) -> None:\n",
    "        self.name_atrib  = name \n",
    "        self.age_atrib = age\n",
    " \n",
    "        \n",
    "    def append(self, x): # метод класса\n",
    "        return [i for i in range(x)]\n",
    "    \n",
    "\n",
    "\n",
    "\n",
    "list_.append(5) #вызов метода \n",
    "list_.name # метод класса\n",
    "# неявно все классы наследуються от класса object\n",
    "    "
   ]
  },
  {
   "cell_type": "code",
   "execution_count": null,
   "metadata": {},
   "outputs": [],
   "source": []
  },
  {
   "cell_type": "code",
   "execution_count": null,
   "metadata": {},
   "outputs": [],
   "source": []
  },
  {
   "cell_type": "code",
   "execution_count": 21,
   "metadata": {},
   "outputs": [
    {
     "data": {
      "text/plain": [
       "'vlad'"
      ]
     },
     "execution_count": 21,
     "metadata": {},
     "output_type": "execute_result"
    }
   ],
   "source": []
  },
  {
   "cell_type": "code",
   "execution_count": 56,
   "metadata": {},
   "outputs": [
    {
     "ename": "AttributeError",
     "evalue": "'list_' object has no attribute 'name'",
     "output_type": "error",
     "traceback": [
      "\u001b[1;31m---------------------------------------------------------------------------\u001b[0m",
      "\u001b[1;31mAttributeError\u001b[0m                            Traceback (most recent call last)",
      "Cell \u001b[1;32mIn[56], line 6\u001b[0m\n\u001b[0;32m      4\u001b[0m \u001b[38;5;66;03m# obj.append(obj,5) # при работе с объектом,в  вызываемый метод переадаё\u001b[39;00m\n\u001b[0;32m      5\u001b[0m obj\u001b[38;5;241m.\u001b[39mappend(\u001b[38;5;241m5\u001b[39m) \u001b[38;5;66;03m# при работе с объектом,в вызываемый метод передаётьться неявно с имя объекта, иначе говоря self. В\u001b[39;00m\n\u001b[1;32m----> 6\u001b[0m obj\u001b[38;5;241m.\u001b[39mname\n\u001b[0;32m      7\u001b[0m obj\u001b[38;5;241m.\u001b[39mage_atrib\n",
      "\u001b[1;31mAttributeError\u001b[0m: 'list_' object has no attribute 'name'"
     ]
    }
   ],
   "source": [
    "obj  = list_(\"vlad\",55) # имя класса + круглые скобки - это создание объекта\n",
    "\n",
    "dir(obj)  ## \n",
    "# obj.append(obj,5) # при работе с объектом,в  вызываемый метод переадаё\n",
    "obj.append(5) # при работе с объектом,в вызываемый метод передаётьться неявно с имя объекта, иначе говоря self. В\n",
    "obj.name\n"
   ]
  },
  {
   "cell_type": "code",
   "execution_count": 67,
   "metadata": {},
   "outputs": [
    {
     "data": {
      "text/plain": [
       "(77, 'vasya')"
      ]
     },
     "execution_count": 67,
     "metadata": {},
     "output_type": "execute_result"
    }
   ],
   "source": [
    "obj_2 = list_(\"vasya\", 77)\n",
    "# obj_2.name\n",
    "# obj_2.age\n",
    "obj_2.age_atrib , obj_2.name_atrib"
   ]
  },
  {
   "cell_type": "code",
   "execution_count": 61,
   "metadata": {},
   "outputs": [
    {
     "data": {
      "text/plain": [
       "55"
      ]
     },
     "execution_count": 61,
     "metadata": {},
     "output_type": "execute_result"
    }
   ],
   "source": [
    "obj.age_atrib"
   ]
  }
 ],
 "metadata": {
  "kernelspec": {
   "display_name": "base",
   "language": "python",
   "name": "python3"
  },
  "language_info": {
   "codemirror_mode": {
    "name": "ipython",
    "version": 3
   },
   "file_extension": ".py",
   "mimetype": "text/x-python",
   "name": "python",
   "nbconvert_exporter": "python",
   "pygments_lexer": "ipython3",
   "version": "3.11.5"
  }
 },
 "nbformat": 4,
 "nbformat_minor": 2
}
