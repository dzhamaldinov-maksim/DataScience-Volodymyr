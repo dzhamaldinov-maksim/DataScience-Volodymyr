{
 "cells": [
  {
   "cell_type": "code",
   "execution_count": null,
   "metadata": {},
   "outputs": [],
   "source": [
    "Если файл init.py появляеться внутри проекта  интрепритатор понимает что это пакет ( набор модулей)\n",
    "Превращает каталог в пакет"
   ]
  },
  {
   "cell_type": "code",
   "execution_count": null,
   "metadata": {},
   "outputs": [],
   "source": [
    "__init__.py - магический файл, (автозагрузчик модулей)\n",
    "Вызываеться ( подключаеться) автоматически к модулю, когда в нашем модуле появляеться импорт к модулю из пакета \n"
   ]
  },
  {
   "cell_type": "markdown",
   "metadata": {},
   "source": [
    "from . - это текущая дериктория, имя файла, импортирует название функции "
   ]
  },
  {
   "cell_type": "markdown",
   "metadata": {},
   "source": [
    "from .controller import main - импортирует функцию main "
   ]
  },
  {
   "cell_type": "markdown",
   "metadata": {},
   "source": [
    "init . py - там идёт определение функций, классов, переменных , конфигурация пакетов, ИМПОРТЫ,"
   ]
  },
  {
   "cell_type": "markdown",
   "metadata": {},
   "source": [
    "РЕКУРСИЯ - базовые"
   ]
  },
  {
   "cell_type": "markdown",
   "metadata": {},
   "source": []
  },
  {
   "cell_type": "code",
   "execution_count": 1,
   "metadata": {},
   "outputs": [
    {
     "name": "stdout",
     "output_type": "stream",
     "text": [
      "1\n",
      "2\n",
      "6\n",
      "24\n",
      "120\n"
     ]
    }
   ],
   "source": [
    "def factorial_iter(n: int) -> int:\n",
    "    \"\"\"\n",
    "    Вычисление числа n с помощью циклаекурсии\n",
    "    \"\"\"\n",
    "    \"\"\"\n",
    "    мы используем _ когда нам не нужен счётчик\n",
    "    Две концепции :\n",
    "    Флаги и счётчик\n",
    "    \n",
    "    \"\"\"\n",
    "    flag = True\n",
    "    count = 1\n",
    "    for i in  range(1, n+1, 1): # \n",
    "        # count = count * 1\n",
    "        count *= i\n",
    "\n",
    "        print(count)\n",
    "\n",
    "    # for _ in  range(1, n+1, 1): # \n",
    "    #     print(\"hello\")\n",
    "        \n",
    "factorial_iter(5)       "
   ]
  },
  {
   "cell_type": "markdown",
   "metadata": {},
   "source": [
    "рекурсия - это вызов функции из функции самой себя"
   ]
  },
  {
   "cell_type": "code",
   "execution_count": 8,
   "metadata": {},
   "outputs": [
    {
     "data": {
      "text/plain": [
       "120"
      ]
     },
     "execution_count": 8,
     "metadata": {},
     "output_type": "execute_result"
    }
   ],
   "source": [
    "# def fibonacci ():\n",
    "def factorial(n: int) -> int: # \n",
    "    if n == 0:\n",
    "        return 1\n",
    "    else:\n",
    "        return n * factorial(n-1)\n",
    "    \n",
    "# 5! = 5*4*3*2*1    \n",
    "factorial(5)  \n",
    "    \n",
    "        "
   ]
  },
  {
   "cell_type": "markdown",
   "metadata": {},
   "source": [
    "Вычисление 10 число Фибоначчи, c помощью рекурсии и цикла."
   ]
  }
 ],
 "metadata": {
  "kernelspec": {
   "display_name": "base",
   "language": "python",
   "name": "python3"
  },
  "language_info": {
   "codemirror_mode": {
    "name": "ipython",
    "version": 3
   },
   "file_extension": ".py",
   "mimetype": "text/x-python",
   "name": "python",
   "nbconvert_exporter": "python",
   "pygments_lexer": "ipython3",
   "version": "3.11.5"
  }
 },
 "nbformat": 4,
 "nbformat_minor": 2
}
